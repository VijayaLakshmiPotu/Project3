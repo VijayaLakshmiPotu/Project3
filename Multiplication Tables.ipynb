{
 "cells": [
  {
   "cell_type": "markdown",
   "metadata": {},
   "source": [
    "# Tables Multiplication\n"
   ]
  },
  {
   "cell_type": "code",
   "execution_count": 11,
   "metadata": {},
   "outputs": [
    {
     "name": "stdout",
     "output_type": "stream",
     "text": [
      "Enter a number(for displaying multiplication table): 9\n",
      "--------------------\n",
      "The Multiplication table is:\n",
      "9  *  1  =  9\n",
      "9  *  2  =  18\n",
      "9  *  3  =  27\n",
      "9  *  4  =  36\n",
      "9  *  5  =  45\n",
      "9  *  6  =  54\n",
      "9  *  7  =  63\n",
      "9  *  8  =  72\n",
      "9  *  9  =  81\n",
      "9  *  10  =  90\n",
      "9  *  11  =  99\n",
      "9  *  12  =  108\n",
      "9  *  13  =  117\n",
      "9  *  14  =  126\n",
      "9  *  15  =  135\n"
     ]
    }
   ],
   "source": [
    "n=int(input((\"Enter a number(for displaying multiplication table): \")))\n",
    "print(\"-\"*20)\n",
    "print(\"The Multiplication table is:\")\n",
    "for i in range(1,16):\n",
    "    print(n,' * ', i, \" = \",n*i)"
   ]
  },
  {
   "cell_type": "code",
   "execution_count": null,
   "metadata": {},
   "outputs": [],
   "source": []
  }
 ],
 "metadata": {
  "kernelspec": {
   "display_name": "Python 3",
   "language": "python",
   "name": "python3"
  },
  "language_info": {
   "codemirror_mode": {
    "name": "ipython",
    "version": 3
   },
   "file_extension": ".py",
   "mimetype": "text/x-python",
   "name": "python",
   "nbconvert_exporter": "python",
   "pygments_lexer": "ipython3",
   "version": "3.8.5"
  }
 },
 "nbformat": 4,
 "nbformat_minor": 4
}
